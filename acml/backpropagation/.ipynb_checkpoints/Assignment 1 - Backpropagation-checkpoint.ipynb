{
 "cells": [
  {
   "cell_type": "code",
   "execution_count": 1,
   "id": "3cd837e9",
   "metadata": {},
   "outputs": [],
   "source": [
    "import numpy as np\n",
    "import matplotlib.pyplot as plt"
   ]
  },
  {
   "cell_type": "markdown",
   "id": "33231b52",
   "metadata": {},
   "source": [
    "## Dataset"
   ]
  },
  {
   "cell_type": "code",
   "execution_count": 2,
   "id": "1e3e4335",
   "metadata": {},
   "outputs": [
    {
     "data": {
      "text/plain": [
       "(array([[1., 0., 0., 0., 0., 0., 0., 0.],\n",
       "        [0., 1., 0., 0., 0., 0., 0., 0.],\n",
       "        [0., 0., 1., 0., 0., 0., 0., 0.],\n",
       "        [0., 0., 0., 1., 0., 0., 0., 0.],\n",
       "        [0., 0., 0., 0., 1., 0., 0., 0.],\n",
       "        [0., 0., 0., 0., 0., 1., 0., 0.],\n",
       "        [0., 0., 0., 0., 0., 0., 1., 0.],\n",
       "        [0., 0., 0., 0., 0., 0., 0., 1.]]),\n",
       " array([[1., 0., 0., 0., 0., 0., 0., 0.],\n",
       "        [0., 1., 0., 0., 0., 0., 0., 0.],\n",
       "        [0., 0., 1., 0., 0., 0., 0., 0.],\n",
       "        [0., 0., 0., 1., 0., 0., 0., 0.],\n",
       "        [0., 0., 0., 0., 1., 0., 0., 0.],\n",
       "        [0., 0., 0., 0., 0., 1., 0., 0.],\n",
       "        [0., 0., 0., 0., 0., 0., 1., 0.],\n",
       "        [0., 0., 0., 0., 0., 0., 0., 1.]]))"
      ]
     },
     "execution_count": 2,
     "metadata": {},
     "output_type": "execute_result"
    }
   ],
   "source": [
    "X, y = np.eye(8), np.eye(8)\n",
    "X, y"
   ]
  },
  {
   "cell_type": "markdown",
   "id": "b430a7b8",
   "metadata": {},
   "source": [
    "## Implementation"
   ]
  },
  {
   "cell_type": "markdown",
   "id": "ef63388b",
   "metadata": {},
   "source": [
    "### Layer (weights and biases)"
   ]
  },
  {
   "cell_type": "code",
   "execution_count": 3,
   "id": "353a15a8",
   "metadata": {},
   "outputs": [],
   "source": [
    "class Layer:\n",
    "  def __init__(self, ins, outs):\n",
    "    self.w = np.random.uniform(0, 1, (ins, outs)).astype(np.float32)\n",
    "    self.b = np.random.uniform(0, 1, outs).astype(np.float32)\n",
    "  \n",
    "  def __repr__(self):\n",
    "    return f\"Layer with weights {self.w} and biases {self.b}\""
   ]
  },
  {
   "cell_type": "markdown",
   "id": "71ccfbfd",
   "metadata": {},
   "source": [
    "### Loss function"
   ]
  },
  {
   "cell_type": "code",
   "execution_count": 4,
   "id": "50779914",
   "metadata": {},
   "outputs": [],
   "source": [
    "# y_hat -> estimated y (prediction)\n",
    "# y     -> actual target\n",
    "\n",
    "def MSE(y_hat, y):\n",
    "  return np.mean((y_hat - y) ** 2)\n",
    "\n",
    "def MSE_grad(y_hat, y):\n",
    "  return 2 * (y_hat - y) * (1/len(y_hat))"
   ]
  },
  {
   "cell_type": "markdown",
   "id": "50bbb164",
   "metadata": {},
   "source": [
    "### Forward and back propagation"
   ]
  },
  {
   "cell_type": "code",
   "execution_count": 5,
   "id": "dc0aaa58",
   "metadata": {},
   "outputs": [],
   "source": [
    "def forward_backward(x, y):\n",
    "  \n",
    "  # forward\n",
    "  x_l1 = x.dot(l1.w) + l1.b\n",
    "  x_relu = np.maximum(0, x_l1)  # relu\n",
    "  x_l2 = x_relu.dot(l2.w) + l2.b\n",
    "  \n",
    "  x_loss = MSE(x_l2, y)\n",
    "  \n",
    "  # backward\n",
    "  dL = MSE_grad(x_l2, y)\n",
    "  \n",
    "  # derivative of l2\n",
    "  dl2_w = x_relu.T.dot(dL)\n",
    "  dl2_b = np.sum(dL, 0)\n",
    "  \n",
    "  # derivative of relu\n",
    "  dx_relu = dL.dot(l2.w.T)\n",
    "  d_relu = (x_l1 > 0).astype(np.float32) * dx_relu\n",
    "  \n",
    "  # derivative of l1\n",
    "  dl1_w = x.T.dot(d_relu)\n",
    "  dl1_b = np.sum(d_relu, 0)\n",
    "  \n",
    "  return x_loss, x_l2, (dl1_w, dl1_b, dl2_w, dl2_b)"
   ]
  },
  {
   "cell_type": "markdown",
   "id": "ad2bf25c",
   "metadata": {},
   "source": [
    "## Initialize Neural Network"
   ]
  },
  {
   "cell_type": "code",
   "execution_count": 6,
   "id": "074f9eb2",
   "metadata": {},
   "outputs": [],
   "source": [
    "l1 = Layer(8, 3)\n",
    "l2 = Layer(3, 8)"
   ]
  },
  {
   "cell_type": "code",
   "execution_count": 7,
   "id": "a377e427",
   "metadata": {},
   "outputs": [],
   "source": [
    "lr = 0.00001\n",
    "losses = []\n",
    "\n",
    "params = [l1.w, l1.b, l2.w, l2.b]\n",
    "\n",
    "# training without biases\n",
    "# l1.b = 0\n",
    "# l2.b = 0\n",
    "\n",
    "for i in range(100000):\n",
    "  x_loss, predicted, grads = forward_backward(X, y)\n",
    "  \n",
    "  # update parameters\n",
    "  for i in range(len(params)):\n",
    "    params[i] -= lr * grads[i]\n",
    "  \n",
    "  losses.append(x_loss)\n",
    "  \n",
    "#   print(\"loss %.2f\" % loss)\n",
    "#   print(predicted)"
   ]
  },
  {
   "cell_type": "code",
   "execution_count": 8,
   "id": "825bdba6",
   "metadata": {},
   "outputs": [
    {
     "data": {
      "text/plain": [
       "array([[ 0.04596612,  0.03769793,  0.13081451,  0.1073727 ,  0.16248049,\n",
       "         0.09762168, -0.03266393,  0.14567968],\n",
       "       [ 0.09576244,  0.10817165,  0.12028428,  0.22649829,  0.1601692 ,\n",
       "         0.22407579,  0.17721855,  0.19220873],\n",
       "       [ 0.10171618,  0.08725505,  0.13953529,  0.13211069,  0.19057181,\n",
       "         0.1512701 ,  0.02947774,  0.16245772],\n",
       "       [ 0.14414482,  0.12497054,  0.14617225,  0.15093756,  0.21195073,\n",
       "         0.19209928,  0.07677073,  0.17522667],\n",
       "       [ 0.04596612,  0.03769793,  0.13081451,  0.1073727 ,  0.16248049,\n",
       "         0.09762168, -0.03266393,  0.14567968],\n",
       "       [ 0.08973926,  0.09964741,  0.12155798,  0.2120893 ,  0.16044876,\n",
       "         0.20878037,  0.15183194,  0.18658075],\n",
       "       [ 0.14469893,  0.1254631 ,  0.14625892,  0.15118344,  0.21222994,\n",
       "         0.19263251,  0.07738837,  0.17539343],\n",
       "       [ 0.06900519,  0.07030373,  0.12594253,  0.16248807,  0.16141113,\n",
       "         0.15612771,  0.06444158,  0.16720709]])"
      ]
     },
     "execution_count": 8,
     "metadata": {},
     "output_type": "execute_result"
    }
   ],
   "source": [
    "predicted"
   ]
  },
  {
   "cell_type": "code",
   "execution_count": 9,
   "id": "ba0cf1cd",
   "metadata": {},
   "outputs": [
    {
     "data": {
      "text/plain": [
       "array([[ 0.7099289 ,  0.6310671 ,  0.11105169,  0.3150172 ,  0.3577186 ,\n",
       "         0.68316627,  0.791321  ,  0.21365376],\n",
       "       [ 0.18221383,  0.23134996,  0.3190712 ,  0.64882535,  0.5960451 ,\n",
       "        -0.08644877,  0.6353842 ,  0.6883502 ],\n",
       "       [ 0.18115862,  0.2563836 , -0.0383091 ,  0.433378  , -0.00840873,\n",
       "         0.46003973,  0.76355124,  0.16927247]], dtype=float32)"
      ]
     },
     "execution_count": 9,
     "metadata": {},
     "output_type": "execute_result"
    }
   ],
   "source": [
    "l2.w"
   ]
  },
  {
   "cell_type": "code",
   "execution_count": 10,
   "id": "7d385a3d",
   "metadata": {},
   "outputs": [
    {
     "data": {
      "text/plain": [
       "array([[ 0.24544616,  0.56869096,  0.04022281],\n",
       "       [ 0.37013856,  0.5579904 ,  0.71523356],\n",
       "       [ 0.63860005, -0.0147372 ,  0.3714446 ],\n",
       "       [ 0.69836485,  0.12438893,  0.18513595],\n",
       "       [ 0.3387015 , -0.00593318,  0.00100634],\n",
       "       [ 0.1658232 ,  0.54382426,  0.6819861 ],\n",
       "       [ 0.69914657,  0.2525553 ,  0.22149709],\n",
       "       [ 0.02180118,  0.16287825,  0.5675332 ]], dtype=float32)"
      ]
     },
     "execution_count": 10,
     "metadata": {},
     "output_type": "execute_result"
    }
   ],
   "source": [
    "l1.w"
   ]
  },
  {
   "cell_type": "code",
   "execution_count": 11,
   "id": "d911aac8",
   "metadata": {},
   "outputs": [
    {
     "data": {
      "text/plain": [
       "array([-0.56007254, -0.56869125, -0.44035763], dtype=float32)"
      ]
     },
     "execution_count": 11,
     "metadata": {},
     "output_type": "execute_result"
    }
   ],
   "source": [
    "l1.b"
   ]
  },
  {
   "cell_type": "code",
   "execution_count": 12,
   "id": "3600fe00",
   "metadata": {},
   "outputs": [
    {
     "data": {
      "text/plain": [
       "array([ 0.04596678,  0.0376987 ,  0.13081436,  0.10737208,  0.16247943,\n",
       "        0.09762088, -0.0326627 ,  0.1456788 ], dtype=float32)"
      ]
     },
     "execution_count": 12,
     "metadata": {},
     "output_type": "execute_result"
    }
   ],
   "source": [
    "l2.b"
   ]
  },
  {
   "cell_type": "code",
   "execution_count": 13,
   "id": "bfb75cec",
   "metadata": {},
   "outputs": [
    {
     "data": {
      "image/png": "[encoded data removed]",
      "text/plain": [
       "<Figure size 640x480 with 1 Axes>"
      ]
     },
     "metadata": {},
     "output_type": "display_data"
    }
   ],
   "source": [
    "plt.plot(losses);"
   ]
  }
 ],
 "metadata": {
  "kernelspec": {
   "display_name": "Python 3 (ipykernel)",
   "language": "python",
   "name": "python3"
  },
  "language_info": {
   "codemirror_mode": {
    "name": "ipython",
    "version": 3
   },
   "file_extension": ".py",
   "mimetype": "text/x-python",
   "name": "python",
   "nbconvert_exporter": "python",
   "pygments_lexer": "ipython3",
   "version": "3.8.10"
  }
 },
 "nbformat": 4,
 "nbformat_minor": 5
}
